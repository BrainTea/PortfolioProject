{
 "cells": [
  {
   "cell_type": "code",
   "execution_count": 1,
   "metadata": {},
   "outputs": [],
   "source": [
    "# Importing libraries\n",
    "\n",
    "from bs4 import BeautifulSoup\n",
    "import requests\n",
    "import smtplib\n",
    "import time\n",
    "import datetime"
   ]
  },
  {
   "cell_type": "code",
   "execution_count": 2,
   "metadata": {},
   "outputs": [
    {
     "name": "stdout",
     "output_type": "stream",
     "text": [
      "\n",
      "                   Aelfric Eden Men's Varsity Jacket Harajuku Vintage Graphic Baseball Jacket Unisex Coats Streetwear\n",
      "                  \n",
      "\n",
      "                  $79.99\n",
      "                 \n"
     ]
    }
   ],
   "source": [
    "# Connect to Website\n",
    "# And getting information from the item we are looking at\n",
    "\n",
    "URL = 'https://www.amazon.com/Aelfric-Eden-Detachable-Graphic-Oversized/dp/B0BNG3S3N9/ref=rvi_sccl_8/147-2980150-4230363?pd_rd_w=p1ltE&content-id=amzn1.sym.f5690a4d-f2bb-45d9-9d1b-736fee412437&pf_rd_p=f5690a4d-f2bb-45d9-9d1b-736fee412437&pf_rd_r=AXPF4GNNV826R86RHCRM&pd_rd_wg=aYLzA&pd_rd_r=a21641c2-a3ab-4842-a8bc-095a30be5938&pd_rd_i=B0BNG3S3N9&psc=1'\n",
    "\n",
    "headers = {\"User-Agent\": \"Mozilla/5.0 (Windows NT 10.0; Win64; x64) AppleWebKit/537.36 (KHTML, like Gecko) Chrome/114.0.0.0 Safari/537.36 Edg/114.0.1823.67\"}\n",
    "\n",
    "page = requests.get(URL,headers=headers)\n",
    "\n",
    "soup1 = BeautifulSoup(page.content, 'html.parser')\n",
    "\n",
    "soup2 = BeautifulSoup(soup1.prettify(), 'html.parser')\n",
    "\n",
    "title = soup2.find(id=\"productTitle\").get_text()\n",
    "\n",
    "span = soup2.find('span', {'class' : 'a-offscreen'})\n",
    "price = span.string # type: ignore\n",
    "\n",
    "print(title)\n",
    "print(price)\n"
   ]
  },
  {
   "cell_type": "code",
   "execution_count": 3,
   "metadata": {},
   "outputs": [
    {
     "name": "stdout",
     "output_type": "stream",
     "text": [
      "Aelfric Eden Men's Varsity Jacket Harajuku Vintage Graphic Baseball Jacket Unisex Coats Streetwear\n",
      "79.99\n"
     ]
    }
   ],
   "source": [
    "# Removing extra spaces and the doller sign\n",
    "\n",
    "title = title.strip()\n",
    "price = price.strip()[1:]\n",
    "\n",
    "print(title)\n",
    "print(price)"
   ]
  },
  {
   "cell_type": "code",
   "execution_count": 4,
   "metadata": {},
   "outputs": [
    {
     "name": "stdout",
     "output_type": "stream",
     "text": [
      "2023-07-07\n"
     ]
    }
   ],
   "source": [
    "# Using this for later to add a column to the data\n",
    "\n",
    "import datetime\n",
    "\n",
    "today = datetime.date.today()\n",
    "\n",
    "print(today)"
   ]
  },
  {
   "cell_type": "code",
   "execution_count": 6,
   "metadata": {},
   "outputs": [],
   "source": [
    "# Creating the table with the desired columns and data\n",
    "\n",
    "import csv\n",
    "\n",
    "header = ['Title', 'Price', 'Date']\n",
    "data = [title,price,today]\n",
    "\n",
    "with open('AmazonWebScraperDataset.csv','w',newline='',encoding='UTF8') as f:\n",
    "    writer = csv.writer(f)\n",
    "    writer.writerow(header)\n",
    "    writer.writerow(data)"
   ]
  },
  {
   "cell_type": "code",
   "execution_count": 7,
   "metadata": {},
   "outputs": [
    {
     "name": "stdout",
     "output_type": "stream",
     "text": [
      "                                               Title  Price        Date\n",
      "0  Aelfric Eden Men's Varsity Jacket Harajuku Vin...  79.99  2023-07-07\n"
     ]
    }
   ],
   "source": [
    "# Reads the csv file created for the item looked at\n",
    "\n",
    "import pandas as pd\n",
    "\n",
    "df = pd.read_csv(r\"C:\\Users\\Bryan\\Documents\\My Projects\\Visual Studio Code\\Python\\AmazonWebScraperDataset.csv\")\n",
    "\n",
    "print(df)"
   ]
  },
  {
   "cell_type": "code",
   "execution_count": 8,
   "metadata": {},
   "outputs": [],
   "source": [
    "# Now we are appending data to the csv\n",
    "\n",
    "with open('AmazonWebScraperDataset.csv','a+',newline='',encoding='UTF8') as f:\n",
    "    writer = csv.writer(f)\n",
    "    writer.writerow(data)"
   ]
  },
  {
   "cell_type": "code",
   "execution_count": 10,
   "metadata": {},
   "outputs": [],
   "source": [
    "# This is putting everything from before together\n",
    "\n",
    "def check_price():\n",
    "    URL = 'https://www.amazon.com/Aelfric-Eden-Detachable-Graphic-Oversized/dp/B0BNG3S3N9/ref=rvi_sccl_8/147-2980150-4230363?pd_rd_w=p1ltE&content-id=amzn1.sym.f5690a4d-f2bb-45d9-9d1b-736fee412437&pf_rd_p=f5690a4d-f2bb-45d9-9d1b-736fee412437&pf_rd_r=AXPF4GNNV826R86RHCRM&pd_rd_wg=aYLzA&pd_rd_r=a21641c2-a3ab-4842-a8bc-095a30be5938&pd_rd_i=B0BNG3S3N9&psc=1'\n",
    "\n",
    "    headers = {\"User-Agent\": \"Mozilla/5.0 (Windows NT 10.0; Win64; x64) AppleWebKit/537.36 (KHTML, like Gecko) Chrome/114.0.0.0 Safari/537.36 Edg/114.0.1823.67\"}\n",
    "\n",
    "    page = requests.get(URL,headers=headers)\n",
    "\n",
    "    soup1 = BeautifulSoup(page.content, 'html.parser')\n",
    "\n",
    "    soup2 = BeautifulSoup(soup1.prettify(), 'html.parser')\n",
    "\n",
    "    title = soup2.find(id=\"productTitle\").get_text()\n",
    "\n",
    "    span = soup2.find('span', {'class' : 'a-offscreen'})\n",
    "    price = span.string # type: ignore\n",
    "\n",
    "    title = title.strip()\n",
    "    price = price.strip()[1:]\n",
    "\n",
    "    import datetime\n",
    "\n",
    "    today = datetime.date.today()\n",
    "\n",
    "    import csv\n",
    "\n",
    "    header = ['Title', 'Price', 'Date']\n",
    "    data = [title,price,today]\n",
    "    \n",
    "    with open('AmazonWebScraperDataset.csv','a+',newline='',encoding='UTF8') as f:\n",
    "        writer = csv.writer(f)\n",
    "        writer.writerow(data)"
   ]
  },
  {
   "cell_type": "code",
   "execution_count": null,
   "metadata": {},
   "outputs": [],
   "source": [
    "# This loops the check_price every day and we automatically update the price and listing of the item we are looking at into a csv\n",
    "\n",
    "while(True):\n",
    "    check_price()\n",
    "    time.sleep(86400)"
   ]
  },
  {
   "cell_type": "code",
   "execution_count": 14,
   "metadata": {},
   "outputs": [
    {
     "name": "stdout",
     "output_type": "stream",
     "text": [
      "                                               Title  Price        Date\n",
      "0  Aelfric Eden Men's Varsity Jacket Harajuku Vin...  79.99  2023-07-07\n",
      "1  Aelfric Eden Men's Varsity Jacket Harajuku Vin...  79.99  2023-07-07\n",
      "2  Aelfric Eden Men's Varsity Jacket Harajuku Vin...  79.99  2023-07-07\n",
      "3  Aelfric Eden Men's Varsity Jacket Harajuku Vin...  79.99  2023-07-07\n"
     ]
    }
   ],
   "source": [
    "# Reading the file that was created from running this after a couple days\n",
    "\n",
    "import pandas as pd\n",
    "\n",
    "df = pd.read_csv(r\"C:\\Users\\Bryan\\Documents\\My Projects\\Visual Studio Code\\Python\\AmazonWebScraperDataset.csv\")\n",
    "\n",
    "print(df)"
   ]
  }
 ],
 "metadata": {
  "kernelspec": {
   "display_name": "Python 3",
   "language": "python",
   "name": "python3"
  },
  "language_info": {
   "codemirror_mode": {
    "name": "ipython",
    "version": 3
   },
   "file_extension": ".py",
   "mimetype": "text/x-python",
   "name": "python",
   "nbconvert_exporter": "python",
   "pygments_lexer": "ipython3",
   "version": "3.11.4"
  },
  "orig_nbformat": 4
 },
 "nbformat": 4,
 "nbformat_minor": 2
}

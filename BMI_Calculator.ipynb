{
 "cells": [
  {
   "cell_type": "code",
   "execution_count": 10,
   "metadata": {},
   "outputs": [
    {
     "name": "stdout",
     "output_type": "stream",
     "text": [
      "Bryan, you are normal weight with a BMI of 21.82\n"
     ]
    }
   ],
   "source": [
    "name = input(\"Enter your name: \")\n",
    "weight = int(input(\"Enter your weight in pounds: \"))\n",
    "height = int(input(\"Enter your height in inches: \"))\n",
    "BMI = (weight * 703) / (height * height)\n",
    "\n",
    "if BMI > 0:\n",
    "    if(BMI < 18.5):\n",
    "        print(name + ', you are underweight with a BMI of ' + str(BMI)[0:5])\n",
    "    elif(BMI <= 24.9):\n",
    "        print(name + ', you are normal weight with a BMI of ' + str(BMI)[0:5])\n",
    "    elif(BMI <= 29.9):\n",
    "        print(name + ', you are overweight with a BMI of ' + str(BMI)[0:5])\n",
    "    elif(BMI <= 34.9):\n",
    "        print(name + ', you are obese with a BMI of ' + str(BMI)[0:5])\n",
    "    elif(BMI <= 39.9):\n",
    "        print(name + ', you are severly obese with a BMI of ' + str(BMI)[0:5])\n",
    "    else:\n",
    "        print(name + ', you are morbidly obese with a BMI of ' + str(BMI)[0:5])\n",
    "else:\n",
    "    print('Enter valid inputs.')"
   ]
  }
 ],
 "metadata": {
  "kernelspec": {
   "display_name": "Python 3",
   "language": "python",
   "name": "python3"
  },
  "language_info": {
   "codemirror_mode": {
    "name": "ipython",
    "version": 3
   },
   "file_extension": ".py",
   "mimetype": "text/x-python",
   "name": "python",
   "nbconvert_exporter": "python",
   "pygments_lexer": "ipython3",
   "version": "3.11.4"
  },
  "orig_nbformat": 4
 },
 "nbformat": 4,
 "nbformat_minor": 2
}
